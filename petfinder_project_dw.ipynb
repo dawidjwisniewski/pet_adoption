{
 "cells": [
  {
   "cell_type": "markdown",
   "metadata": {},
   "source": [
    "# Petfinder Adoption Prediction\n",
    "\n",
    "\n",
    "Author: Dawid Wisniewski\n",
    "\n",
    "Project description and data: https://www.kaggle.com/c/petfinder-adoption-prediction"
   ]
  },
  {
   "cell_type": "markdown",
   "metadata": {},
   "source": [
    "## Data imports"
   ]
  },
  {
   "cell_type": "code",
   "execution_count": null,
   "metadata": {},
   "outputs": [],
   "source": [
    "import osimport os\n",
    "from kaggle.api.kaggle_api_extended import KaggleApi\n",
    "import zipfile"
   ]
  },
  {
   "cell_type": "code",
   "execution_count": 3,
   "metadata": {},
   "outputs": [
    {
     "data": {
      "text/plain": [
       "'/home/dawid/Python/Kodolamacz/Projekt/pet_adoption/Data'"
      ]
     },
     "execution_count": 3,
     "metadata": {},
     "output_type": "execute_result"
    }
   ],
   "source": [
    "# Get current dir\n",
    "\n",
    "current_dir = os.getcwd()\n",
    "data_dir = current_dir+r'/Data'\n",
    "data_dir"
   ]
  },
  {
   "cell_type": "code",
   "execution_count": 17,
   "metadata": {},
   "outputs": [
    {
     "name": "stdout",
     "output_type": "stream",
     "text": [
      "Warning: Your Kaggle API key is readable by other users on this system! To fix this, you can run 'chmod 600 /home/dawid/.kaggle/kaggle.json'\n"
     ]
    }
   ],
   "source": [
    "competition_name = 'petfinder-adoption-prediction'\n",
    "\n",
    "kaggle_api = KaggleApi()\n",
    "kaggle_api.authenticate()\n",
    "kaggle.api.competition_download_files(competition_name, path=data_dir)"
   ]
  },
  {
   "cell_type": "code",
   "execution_count": 20,
   "metadata": {},
   "outputs": [],
   "source": [
    "data_zip_file = f'{data_dir}/{competition_name}.zip'\n",
    "\n",
    "with zipfile.ZipFile(data_zip_file, 'r') as zipref:\n",
    "    zipref.extractall(data_dir)"
   ]
  },
  {
   "cell_type": "code",
   "execution_count": 23,
   "metadata": {},
   "outputs": [],
   "source": [
    "os.remove(data_zip_file) "
   ]
  }
 ],
 "metadata": {
  "kernelspec": {
   "display_name": "Python 3",
   "language": "python",
   "name": "python3"
  },
  "language_info": {
   "codemirror_mode": {
    "name": "ipython",
    "version": 3
   },
   "file_extension": ".py",
   "mimetype": "text/x-python",
   "name": "python",
   "nbconvert_exporter": "python",
   "pygments_lexer": "ipython3",
   "version": "3.8.3"
  }
 },
 "nbformat": 4,
 "nbformat_minor": 4
}
